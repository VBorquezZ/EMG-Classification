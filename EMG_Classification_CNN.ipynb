{
 "cells": [
  {
   "cell_type": "code",
   "execution_count": 1,
   "id": "86557573",
   "metadata": {},
   "outputs": [
    {
     "name": "stdout",
     "output_type": "stream",
     "text": [
      "Final2\n"
     ]
    }
   ],
   "source": [
    "import torch\n",
    "import torch.nn as nn\n",
    "import matplotlib.pyplot as plt\n",
    "import pandas as pd\n",
    "import seaborn as sns\n",
    "from sklearn.metrics import confusion_matrix\n",
    "\"\"\"\n",
    "Es muy importante contar con los siguientes módulos:\n",
    "\"\"\"\n",
    "import models  #Módulo con los modelos de redes\n",
    "import utils   #Módulo con funciones útiles para el proyecto"
   ]
  },
  {
   "cell_type": "markdown",
   "id": "af313e5e",
   "metadata": {},
   "source": [
    "# Creación de datasets de entrenamiento, validación y testeo"
   ]
  },
  {
   "cell_type": "markdown",
   "id": "10ce4e24",
   "metadata": {},
   "source": [
    "Se tienen datos de 36 sujetos distintos. Estos se dividirán en conjuntos de entrenamiento, validación y testeo con 28, 5 y 3 sujetos respectivamente elegidos de manera aleatoria. Hay sujetos distintos entre los conjuntos porque el objetivo es lograr clasificar las señales de nuevos sujetos."
   ]
  },
  {
   "cell_type": "code",
   "execution_count": 2,
   "id": "66dbcd92",
   "metadata": {},
   "outputs": [
    {
     "name": "stdout",
     "output_type": "stream",
     "text": [
      "Train subjects:  ['01', '02', '03', '04', '05', '07', '08', '09', '11', '12', '13', '14', '15', '17', '18', '19', '20', '22', '24', '26', '27', '28', '29', '30', '31', '32', '34', '36']\n",
      "Val subjects:  ['21', '06', '25', '23', '35']\n",
      "Test subjects:  ['33', '10', '16']\n"
     ]
    }
   ],
   "source": [
    "#Esta función divide los sujetos en entrenamiento y validación de forma aleatoria\n",
    "path_files = 'EMG_data_for_gestures-master'\n",
    "train_subjects, val_subjects, test_subjects  = utils.divide_Subjects(path_files = path_files, nval = 5, ntest = 3)\n",
    "print(\"Train subjects: \", train_subjects)\n",
    "print(\"Val subjects: \", val_subjects)\n",
    "print(\"Test subjects: \", test_subjects)"
   ]
  },
  {
   "cell_type": "code",
   "execution_count": 75,
   "id": "43d6f3df",
   "metadata": {},
   "outputs": [],
   "source": [
    "# Esta celda (escogiendo siempre a los mismos sujetos para entrenamiento, validación y prueba) se tiene solamente para fines de debuggeo\n",
    "train_subjects =   ['01', '02', '04', '05', '06', '08', '09', '10', '11', '12', '13', '14', '15', '17', '19', '20', '21', '22', '24', '25', '26', '27', '28', '29', '31', '32', '34', '35']\n",
    "val_subjects =  ['30', '36', '16', '18', '07']\n",
    "test_subjects =  ['03', '33', '23']"
   ]
  },
  {
   "cell_type": "markdown",
   "id": "bc6ca468",
   "metadata": {},
   "source": [
    "# Modelo y entrenamiento\n",
    "\n",
    "___\n",
    "Revisar los módulos utils.py y models.py para más detalles de las funciones y de los modelos de usados respectivamente\n",
    "___"
   ]
  },
  {
   "cell_type": "code",
   "execution_count": 4,
   "id": "ad72530b",
   "metadata": {},
   "outputs": [],
   "source": [
    "# Esta función usa MinMaxScaler() sobre los datos de entrenamiento para poder normalizar posteriormente los datos\n",
    "scaler = utils.get_scaler(train_subjects, path_files = path_files)"
   ]
  },
  {
   "cell_type": "code",
   "execution_count": 5,
   "id": "1e0af1d1",
   "metadata": {},
   "outputs": [
    {
     "name": "stdout",
     "output_type": "stream",
     "text": [
      "Len df_Train with augment by inserts:  9286\n",
      "Len df_Val :  1434\n",
      "Len df_Test :  132\n"
     ]
    }
   ],
   "source": [
    "df_Train = utils.Windows_df_from_subjects(train_subjects, path_files = path_files, wait_size = 120, interleaved = (2,4), scaler=scaler)\n",
    "df_Val = utils.Windows_df_from_subjects(val_subjects, path_files = path_files, wait_size = 120, scaler=scaler)\n",
    "df_Test = utils.Windows_df_from_subjects(test_subjects, path_files = path_files, wait_size = 800, scaler=scaler)\n",
    "print('Len df_Train with augment by inserts: ', len(df_Train))\n",
    "print('Len df_Val : ', len(df_Val))\n",
    "print('Len df_Test : ', len(df_Test))"
   ]
  },
  {
   "cell_type": "code",
   "execution_count": 6,
   "id": "4975f185",
   "metadata": {},
   "outputs": [],
   "source": [
    "# En esta celda se aplica el aumento de datos por ruido gaussiano\n",
    "# Este aumento se implementa en 'utils.GN_DataAugmentation()'\n",
    "SNR = 35\n",
    "N_Augmentation = 15\n",
    "DF_TRAIN = [df_Train]\n",
    "\n",
    "for j in range(N_Augmentation):\n",
    "    DF_TRAIN.append(utils.GN_DataAugmentation(df_Train, SNR))    \n",
    "DF_TRAIN = pd.concat(DF_TRAIN)\n",
    "DF_TRAIN.reset_index(inplace=True, drop=True)"
   ]
  },
  {
   "cell_type": "code",
   "execution_count": 7,
   "id": "322a603c",
   "metadata": {},
   "outputs": [],
   "source": [
    "# Datset (de pytorch) se encuentra definido en utils.py\n",
    "# Así, la creación de los dataloaders para la red funciona como sigue:\n",
    "BATCH_SIZE = 64\n",
    "\n",
    "ds_train = utils.Dataset_EMG(DF_TRAIN)\n",
    "ds_val = utils.Dataset_EMG(df_Val)\n",
    "ds_test = utils.Dataset_EMG(df_Test)\n",
    "\n",
    "train_loader = torch.utils.data.DataLoader(ds_train, batch_size=BATCH_SIZE, shuffle=True)\n",
    "val_loader = torch.utils.data.DataLoader(ds_val, batch_size=BATCH_SIZE, shuffle=False) \n",
    "test_loader = torch.utils.data.DataLoader(ds_test, batch_size=BATCH_SIZE, shuffle=False)  "
   ]
  },
  {
   "cell_type": "code",
   "execution_count": 8,
   "id": "2c363014",
   "metadata": {},
   "outputs": [],
   "source": [
    "# Definición de hiperparámetros y de modelo\n",
    "\n",
    "LR = 0.035\n",
    "EPOCHS = 100\n",
    "PATIENCE=20\n",
    "device = torch.device('cuda' if torch.cuda.is_available() else 'cpu')\n",
    "model = models.EMG2DClassifier_V0(dropout = 0.15).to(device)\n",
    "criterion = nn.CrossEntropyLoss()\n",
    "optimizer = torch.optim.Adam(model.parameters(), lr = LR)\n"
   ]
  },
  {
   "cell_type": "code",
   "execution_count": 12,
   "id": "52f80d04",
   "metadata": {},
   "outputs": [
    {
     "data": {
      "text/html": [
       "<div>\n",
       "<style scoped>\n",
       "    .dataframe tbody tr th:only-of-type {\n",
       "        vertical-align: middle;\n",
       "    }\n",
       "\n",
       "    .dataframe tbody tr th {\n",
       "        vertical-align: top;\n",
       "    }\n",
       "\n",
       "    .dataframe thead th {\n",
       "        text-align: right;\n",
       "    }\n",
       "</style>\n",
       "<table border=\"1\" class=\"dataframe\">\n",
       "  <thead>\n",
       "    <tr style=\"text-align: right;\">\n",
       "      <th></th>\n",
       "      <th>Window</th>\n",
       "      <th>Class</th>\n",
       "    </tr>\n",
       "  </thead>\n",
       "  <tbody>\n",
       "    <tr>\n",
       "      <th>0</th>\n",
       "      <td>[[[0.4980392156862745, 0.5019607843137255, 0.4...</td>\n",
       "      <td>0</td>\n",
       "    </tr>\n",
       "    <tr>\n",
       "      <th>1</th>\n",
       "      <td>[[[0.4980392156862745, 0.49019607843137253, 0....</td>\n",
       "      <td>0</td>\n",
       "    </tr>\n",
       "    <tr>\n",
       "      <th>2</th>\n",
       "      <td>[[[0.5058823529411764, 0.5058823529411764, 0.4...</td>\n",
       "      <td>0</td>\n",
       "    </tr>\n",
       "    <tr>\n",
       "      <th>3</th>\n",
       "      <td>[[[0.5019607843137255, 0.5019607843137255, 0.4...</td>\n",
       "      <td>0</td>\n",
       "    </tr>\n",
       "    <tr>\n",
       "      <th>4</th>\n",
       "      <td>[[[0.49019607843137253, 0.4784313725490196, 0....</td>\n",
       "      <td>0</td>\n",
       "    </tr>\n",
       "    <tr>\n",
       "      <th>...</th>\n",
       "      <td>...</td>\n",
       "      <td>...</td>\n",
       "    </tr>\n",
       "    <tr>\n",
       "      <th>148571</th>\n",
       "      <td>[[[0.35429962290594297, 0.3595512515367868, 0....</td>\n",
       "      <td>5</td>\n",
       "    </tr>\n",
       "    <tr>\n",
       "      <th>148572</th>\n",
       "      <td>[[[0.3204141380881278, 0.26063277383979533, 0....</td>\n",
       "      <td>5</td>\n",
       "    </tr>\n",
       "    <tr>\n",
       "      <th>148573</th>\n",
       "      <td>[[[0.171935032670323, 0.3123626928742391, 0.48...</td>\n",
       "      <td>5</td>\n",
       "    </tr>\n",
       "    <tr>\n",
       "      <th>148574</th>\n",
       "      <td>[[[0.33263386505846665, 0.39009611905633873, 0...</td>\n",
       "      <td>5</td>\n",
       "    </tr>\n",
       "    <tr>\n",
       "      <th>148575</th>\n",
       "      <td>[[[0.21050478708129264, 0.34128621290495365, 0...</td>\n",
       "      <td>5</td>\n",
       "    </tr>\n",
       "  </tbody>\n",
       "</table>\n",
       "<p>148576 rows × 2 columns</p>\n",
       "</div>"
      ],
      "text/plain": [
       "                                                   Window  Class\n",
       "0       [[[0.4980392156862745, 0.5019607843137255, 0.4...      0\n",
       "1       [[[0.4980392156862745, 0.49019607843137253, 0....      0\n",
       "2       [[[0.5058823529411764, 0.5058823529411764, 0.4...      0\n",
       "3       [[[0.5019607843137255, 0.5019607843137255, 0.4...      0\n",
       "4       [[[0.49019607843137253, 0.4784313725490196, 0....      0\n",
       "...                                                   ...    ...\n",
       "148571  [[[0.35429962290594297, 0.3595512515367868, 0....      5\n",
       "148572  [[[0.3204141380881278, 0.26063277383979533, 0....      5\n",
       "148573  [[[0.171935032670323, 0.3123626928742391, 0.48...      5\n",
       "148574  [[[0.33263386505846665, 0.39009611905633873, 0...      5\n",
       "148575  [[[0.21050478708129264, 0.34128621290495365, 0...      5\n",
       "\n",
       "[148576 rows x 2 columns]"
      ]
     },
     "execution_count": 12,
     "metadata": {},
     "output_type": "execute_result"
    }
   ],
   "source": [
    "DF_TRAIN"
   ]
  },
  {
   "cell_type": "code",
   "execution_count": 13,
   "id": "b338f38d",
   "metadata": {},
   "outputs": [
    {
     "name": "stderr",
     "output_type": "stream",
     "text": [
      "Epochs  :  33%|███▎      | 33/100 [47:50<1:37:08, 86.99s/it]"
     ]
    },
    {
     "name": "stdout",
     "output_type": "stream",
     "text": [
      "Early Stopping at epoch 33\n"
     ]
    },
    {
     "name": "stderr",
     "output_type": "stream",
     "text": [
      "\n"
     ]
    }
   ],
   "source": [
    "# Para entrenar los modelos se implementa la función 'utils.train()\n",
    "# Si save != 0: guardará el estado del modelo que reporte el mejor resultado en validación en un archivo 'Best_model_i.pt'\n",
    "\n",
    "metrics = utils.train(model, optimizer, criterion, train_loader, val_loader, EPOCHS, device,patience=PATIENCE, save = 1)\n",
    "\n",
    "\n",
    "# metrics es un arreglo de la forma: (train_accs, train_losses, val_accs, val_losses, time)\n",
    "# train_accs: accuaracies por época en set de entrenamiento\n",
    "# train_losses: losses por época en set de entrenamiento\n",
    "# val_accs: accuaracies por época en set de validación\n",
    "# val_losses: losses por época en set de entrenamiento\n",
    "# time: tiempo total de entrenamiento"
   ]
  },
  {
   "cell_type": "code",
   "execution_count": 76,
   "id": "465cfad7",
   "metadata": {},
   "outputs": [
    {
     "data": {
      "text/plain": [
       "<All keys matched successfully>"
      ]
     },
     "execution_count": 76,
     "metadata": {},
     "output_type": "execute_result"
    }
   ],
   "source": [
    "model = models.EMG2DClassifier_V0().to(device)\n",
    "checkpoint = torch.load(\"Best_model_V0.pt\")\n",
    "model.load_state_dict(checkpoint['model_state_dict'])"
   ]
  },
  {
   "cell_type": "code",
   "execution_count": 86,
   "id": "e5f24c6c",
   "metadata": {},
   "outputs": [
    {
     "name": "stderr",
     "output_type": "stream",
     "text": [
      "Predicting  :: 100%|██████████| 3/3 [00:00<00:00, 37.10it/s]"
     ]
    },
    {
     "name": "stdout",
     "output_type": "stream",
     "text": [
      "Test Accuracy :  0.9090909090909091\n"
     ]
    },
    {
     "name": "stderr",
     "output_type": "stream",
     "text": [
      "\n"
     ]
    }
   ],
   "source": [
    "# Ahora se genera el dataframe de predicciones vs la clase real\n",
    "# utils.predictions_to_DF(model, data_loader,device) evalúa el modelo 'model' en 'device' con el 'data_loader'\n",
    "# y genera un dataframe con las columnas \"True Classes\" y \"Predicted Classes\", las que representan exactamente lo que sus nombres indican\n",
    "\n",
    "preds_Test = utils.predictions_to_DF(model, test_loader, device)\n",
    "\n",
    "print('Test Accuracy : ', len(preds_Test[preds_Test[\"True Classes\"]==preds_Test[\"Predicted Classes\"]])/len(preds_Test))\n",
    "\n"
   ]
  },
  {
   "cell_type": "code",
   "execution_count": 74,
   "id": "086399a7",
   "metadata": {},
   "outputs": [
    {
     "data": {
      "text/plain": [
       "[Text(0.5, 1.0, 'Confusion matrix in Testing'),\n",
       " Text(0.5, 42.0, 'Predicted Label'),\n",
       " Text(69.0, 0.5, 'True Lable')]"
      ]
     },
     "execution_count": 74,
     "metadata": {},
     "output_type": "execute_result"
    },
    {
     "data": {
      "image/png": "[encoded data removed]",
      "text/plain": [
       "<Figure size 720x504 with 2 Axes>"
      ]
     },
     "metadata": {
      "needs_background": "light"
     },
     "output_type": "display_data"
    }
   ],
   "source": [
    "# Matriz de confusión en dataset de validación\n",
    "cm = confusion_matrix(list(preds_Test[\"True Classes\"]), list(preds_Test[\"Predicted Classes\"]), normalize ='true')\n",
    "plt.figure(figsize = (10,7))\n",
    "s = sns.heatmap(cm, annot=True)\n",
    "\n",
    "s.set(title = 'Confusion matrix in Testing'\n",
    "      , xlabel='Predicted Label', ylabel='True Lable')"
   ]
  }
 ],
 "metadata": {
  "kernelspec": {
   "display_name": "Pytorch 1.11 (Python 3.9)",
   "language": "python",
   "name": "pytorch_1_11"
  },
  "language_info": {
   "codemirror_mode": {
    "name": "ipython",
    "version": 3
   },
   "file_extension": ".py",
   "mimetype": "text/x-python",
   "name": "python",
   "nbconvert_exporter": "python",
   "pygments_lexer": "ipython3",
   "version": "3.9.7"
  },
  "vscode": {
   "interpreter": {
    "hash": "94c0b5db7973c9cc1f389cd649492a6a08128465d5d43a035db6cb8c2ff7ffc0"
   }
  }
 },
 "nbformat": 4,
 "nbformat_minor": 5
}
